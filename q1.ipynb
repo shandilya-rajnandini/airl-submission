{
  "cells": [
    {
      "cell_type": "code",
      "execution_count": null,
      "metadata": {
        "id": "SLeEBsgQUlpj"
      },
      "outputs": [],
      "source": [
        "# Colab cell 1 — GPU check & installs\n",
        "!nvidia-smi\n",
        "# Installing required packages\n",
        "!pip install -q torch torchvision tqdm einops"
      ]
    },
    {
      "cell_type": "code",
      "execution_count": null,
      "metadata": {
        "colab": {
          "base_uri": "https://localhost:8080/"
        },
        "id": "R_aAi8-EWYWi",
        "outputId": "ec4e60b3-3455-4b72-f5d7-dd175fd34239"
      },
      "outputs": [
        {
          "name": "stdout",
          "output_type": "stream",
          "text": [
            "device: cuda\n"
          ]
        }
      ],
      "source": [
        "# cell 2 — imports\n",
        "import os\n",
        "import math\n",
        "import time\n",
        "from tqdm import tqdm\n",
        "import numpy as np\n",
        "import torch\n",
        "import torch.nn as nn\n",
        "import torch.nn.functional as F\n",
        "from torch.utils.data import DataLoader\n",
        "import torchvision\n",
        "from torchvision import transforms\n",
        "from einops import rearrange\n",
        "device = torch.device(\"cuda\" if torch.cuda.is_available() else \"cpu\")\n",
        "print(\"device:\", device)\n"
      ]
    },
    {
      "cell_type": "code",
      "execution_count": null,
      "metadata": {
        "id": "YQmk0DCwWkc5"
      },
      "outputs": [],
      "source": [
        "# cell 3 — ViT implementation (simple, modular)\n",
        "class PatchEmbedding(nn.Module):\n",
        "    def __init__(self, in_channels=3, patch_size=4, emb_dim=192, img_size=32):\n",
        "        super().__init__()\n",
        "        self.patch_size = patch_size\n",
        "        self.num_patches = (img_size // patch_size) ** 2\n",
        "        # Using conv to patchify\n",
        "        self.proj = nn.Conv2d(in_channels, emb_dim, kernel_size=patch_size, stride=patch_size)\n",
        "    def forward(self, x):\n",
        "        # x: (B, C, H, W)\n",
        "        x = self.proj(x)  # (B, emb_dim, H/ps, W/ps)\n",
        "        b, e, h, w = x.shape\n",
        "        x = x.flatten(2).transpose(1,2)  # (B, num_patches, emb_dim)\n",
        "        return x\n",
        "\n",
        "class MLP(nn.Module):\n",
        "    def __init__(self, in_dim, mlp_dim, drop=0.):\n",
        "        super().__init__()\n",
        "        self.fc1 = nn.Linear(in_dim, mlp_dim)\n",
        "        self.fc2 = nn.Linear(mlp_dim, in_dim)\n",
        "        self.act = nn.GELU()\n",
        "        self.drop = nn.Dropout(drop)\n",
        "    def forward(self, x):\n",
        "        x = self.fc1(x)\n",
        "        x = self.act(x)\n",
        "        x = self.drop(x)\n",
        "        x = self.fc2(x)\n",
        "        x = self.drop(x)\n",
        "        return x\n",
        "\n",
        "class MultiHeadSelfAttention(nn.Module):\n",
        "    def __init__(self, dim, num_heads=8, qkv_bias=True, attn_drop=0., proj_drop=0.):\n",
        "        super().__init__()\n",
        "        assert dim % num_heads == 0\n",
        "        self.num_heads = num_heads\n",
        "        head_dim = dim // num_heads\n",
        "        self.scale = head_dim ** -0.5\n",
        "        self.qkv = nn.Linear(dim, dim*3, bias=qkv_bias)\n",
        "        self.attn_drop = nn.Dropout(attn_drop)\n",
        "        self.proj = nn.Linear(dim, dim)\n",
        "        self.proj_drop = nn.Dropout(proj_drop)\n",
        "    def forward(self, x):\n",
        "        B, N, C = x.shape\n",
        "        qkv = self.qkv(x).reshape(B, N, 3, self.num_heads, C // self.num_heads)\n",
        "        q, k, v = qkv.unbind(dim=2)  # each is (B, N, heads, head_dim)\n",
        "        q = q.transpose(1,2)  # (B, heads, N, head_dim)\n",
        "        k = k.transpose(1,2)\n",
        "        v = v.transpose(1,2)\n",
        "        attn = (q @ k.transpose(-2,-1)) * self.scale  # (B, heads, N, N)\n",
        "        attn = attn.softmax(dim=-1)\n",
        "        attn = self.attn_drop(attn)\n",
        "        out = (attn @ v).transpose(1,2).reshape(B, N, C)\n",
        "        out = self.proj(out)\n",
        "        out = self.proj_drop(out)\n",
        "        return out\n",
        "\n",
        "class TransformerEncoderBlock(nn.Module):\n",
        "    def __init__(self, dim, num_heads, mlp_dim, drop=0., attn_drop=0., drop_path=0.):\n",
        "        super().__init__()\n",
        "        self.norm1 = nn.LayerNorm(dim)\n",
        "        self.attn = MultiHeadSelfAttention(dim, num_heads=num_heads, attn_drop=attn_drop, proj_drop=drop)\n",
        "        self.drop_path = nn.Identity() if drop_path == 0. else nn.Dropout(drop_path)\n",
        "        self.norm2 = nn.LayerNorm(dim)\n",
        "        self.mlp = MLP(dim, mlp_dim, drop=drop)\n",
        "    def forward(self, x):\n",
        "        x = x + self.drop_path(self.attn(self.norm1(x)))\n",
        "        x = x + self.drop_path(self.mlp(self.norm2(x)))\n",
        "        return x\n",
        "\n",
        "class SimpleViT(nn.Module):\n",
        "    def __init__(self, *, img_size=32, patch_size=4, in_chans=3, num_classes=10,\n",
        "                 emb_dim=192, depth=12, num_heads=3, mlp_ratio=4., drop_rate=0.0):\n",
        "        super().__init__()\n",
        "        self.patch_embed = PatchEmbedding(in_chans, patch_size, emb_dim, img_size)\n",
        "        num_patches = self.patch_embed.num_patches\n",
        "        # cls token\n",
        "        self.cls_token = nn.Parameter(torch.zeros(1,1,emb_dim))\n",
        "        self.pos_embed = nn.Parameter(torch.zeros(1, num_patches+1, emb_dim))\n",
        "        self.pos_drop = nn.Dropout(p=drop_rate)\n",
        "        # transformer blocks\n",
        "        self.blocks = nn.ModuleList([\n",
        "            TransformerEncoderBlock(dim=emb_dim, num_heads=num_heads, mlp_dim=int(emb_dim*mlp_ratio), drop=drop_rate)\n",
        "            for _ in range(depth)\n",
        "        ])\n",
        "        self.norm = nn.LayerNorm(emb_dim)\n",
        "        # head\n",
        "        self.head = nn.Linear(emb_dim, num_classes)\n",
        "        # init\n",
        "        nn.init.trunc_normal_(self.pos_embed, std=0.02)\n",
        "        nn.init.trunc_normal_(self.cls_token, std=0.02)\n",
        "        self.apply(self._init_weights)\n",
        "    def _init_weights(self, m):\n",
        "        if isinstance(m, nn.Linear):\n",
        "            nn.init.xavier_uniform_(m.weight)\n",
        "            if m.bias is not None:\n",
        "                nn.init.zeros_(m.bias)\n",
        "        elif isinstance(m, nn.LayerNorm):\n",
        "            nn.init.ones_(m.weight)\n",
        "            nn.init.zeros_(m.bias)\n",
        "    def forward(self, x):\n",
        "        B = x.size(0)\n",
        "        x = self.patch_embed(x)  # (B, num_patches, emb)\n",
        "        cls_tokens = self.cls_token.expand(B, -1, -1)\n",
        "        x = torch.cat((cls_tokens, x), dim=1)\n",
        "        x = x + self.pos_embed\n",
        "        x = self.pos_drop(x)\n",
        "        for blk in self.blocks:\n",
        "            x = blk(x)\n",
        "        x = self.norm(x)\n",
        "        cls = x[:,0]\n",
        "        out = self.head(cls)\n",
        "        return out\n"
      ]
    },
    {
      "cell_type": "code",
      "execution_count": null,
      "metadata": {
        "colab": {
          "base_uri": "https://localhost:8080/"
        },
        "id": "sX1jccTrWwux",
        "outputId": "53632eb0-6973-446c-89b4-94d629326381"
      },
      "outputs": [
        {
          "name": "stderr",
          "output_type": "stream",
          "text": [
            "100%|██████████| 170M/170M [00:21<00:00, 8.09MB/s]\n"
          ]
        }
      ],
      "source": [
        "# cell 4 — data (CIFAR-10) and augmentation\n",
        "batch_size = 128\n",
        "img_size = 32\n",
        "\n",
        "train_transform = transforms.Compose([\n",
        "    transforms.RandomCrop(32, padding=4),\n",
        "    transforms.RandomHorizontalFlip(),\n",
        "    transforms.AutoAugment(transforms.AutoAugmentPolicy.CIFAR10),\n",
        "    transforms.ToTensor(),\n",
        "    transforms.Normalize((0.4914,0.4822,0.4465),(0.247,0.243,0.261))\n",
        "])\n",
        "\n",
        "test_transform = transforms.Compose([\n",
        "    transforms.ToTensor(),\n",
        "    transforms.Normalize((0.4914,0.4822,0.4465),(0.247,0.243,0.261))\n",
        "])\n",
        "\n",
        "train_ds = torchvision.datasets.CIFAR10(root='./data', train=True, download=True, transform=train_transform)\n",
        "test_ds  = torchvision.datasets.CIFAR10(root='./data', train=False, download=True, transform=test_transform)\n",
        "train_loader = DataLoader(train_ds, batch_size=batch_size, shuffle=True, num_workers=2, pin_memory=True)\n",
        "test_loader  = DataLoader(test_ds, batch_size=256, shuffle=False, num_workers=2, pin_memory=True)\n"
      ]
    },
    {
      "cell_type": "code",
      "execution_count": null,
      "metadata": {
        "id": "zzR6_0SVW4vj"
      },
      "outputs": [],
      "source": [
        "#  cell 5 — training utils and metrics\n",
        "def accuracy(output, target, topk=(1,)):\n",
        "    with torch.no_grad():\n",
        "        maxk = max(topk)\n",
        "        batch_size = target.size(0)\n",
        "        _, pred = output.topk(maxk, 1, True, True)\n",
        "        pred = pred.t()\n",
        "        correct = pred.eq(target.view(1, -1).expand_as(pred))\n",
        "        res = []\n",
        "        for k in topk:\n",
        "            correct_k = correct[:k].reshape(-1).float().sum(0, keepdim=True)\n",
        "            res.append((correct_k.mul_(100.0 / batch_size)).item())\n",
        "        return res\n",
        "\n",
        "def evaluate(model, loader):\n",
        "    model.eval()\n",
        "    total = 0\n",
        "    correct = 0\n",
        "    losses = 0.0\n",
        "    criterion = nn.CrossEntropyLoss()\n",
        "    with torch.no_grad():\n",
        "        for x,y in loader:\n",
        "            x,y = x.to(device), y.to(device)\n",
        "            out = model(x)\n",
        "            loss = criterion(out, y)\n",
        "            losses += loss.item() * x.size(0)\n",
        "            _, pred = out.max(1)\n",
        "            correct += (pred == y).sum().item()\n",
        "            total += x.size(0)\n",
        "    return losses/total, 100.0*correct/total\n"
      ]
    },
    {
      "cell_type": "code",
      "execution_count": null,
      "metadata": {
        "id": "AjJEN1UzW-5d"
      },
      "outputs": [],
      "source": [
        "#  cell 6 — instantiate model, optimizer, scheduler\n",
        "# Hyperparameters — tweaking these for best results\n",
        "model = SimpleViT(img_size=img_size, patch_size=4, emb_dim=256, depth=10, num_heads=8, mlp_ratio=4., num_classes=10, drop_rate=0.1)\n",
        "model = model.to(device)\n",
        "# optionally wraping with DataParallel if multiple GPUs\n",
        "import torch.optim as optim\n",
        "optimizer = optim.AdamW(model.parameters(), lr=3e-4, weight_decay=0.05)\n",
        "epochs = 80\n",
        "criterion = nn.CrossEntropyLoss()\n",
        "# Cosine scheduler with warmup\n",
        "def cosine_scheduler(optimizer, epochs, warmup_epochs=5, base_lr=3e-4, final_lr=1e-5):\n",
        "    lrs = []\n",
        "    for epoch in range(epochs):\n",
        "        if epoch < warmup_epochs:\n",
        "            lr = base_lr * (epoch+1) / warmup_epochs\n",
        "        else:\n",
        "            t = (epoch - warmup_epochs) / (epochs - warmup_epochs)\n",
        "            lr = final_lr + 0.5 * (base_lr - final_lr) * (1 + math.cos(math.pi * t))\n",
        "        lrs.append(lr)\n",
        "    return lrs\n",
        "lrs = cosine_scheduler(optimizer, epochs)\n"
      ]
    },
    {
      "cell_type": "code",
      "execution_count": null,
      "metadata": {
        "colab": {
          "background_save": true,
          "base_uri": "https://localhost:8080/"
        },
        "id": "qE3hs595XHbx",
        "outputId": "bc082525-e8bd-45d6-dfb5-dc0292f2e644"
      },
      "outputs": [
        {
          "name": "stderr",
          "output_type": "stream",
          "text": [
            "/tmp/ipython-input-3092873707.py:2: FutureWarning: `torch.cuda.amp.GradScaler(args...)` is deprecated. Please use `torch.amp.GradScaler('cuda', args...)` instead.\n",
            "  scaler = torch.cuda.amp.GradScaler(enabled=torch.cuda.is_available())\n",
            "Epoch 1/80:   0%|          | 0/391 [00:00<?, ?it/s]/tmp/ipython-input-3092873707.py:14: FutureWarning: `torch.cuda.amp.autocast(args...)` is deprecated. Please use `torch.amp.autocast('cuda', args...)` instead.\n",
            "  with torch.cuda.amp.autocast(enabled=torch.cuda.is_available()):\n",
            "Epoch 1/80: 100%|██████████| 391/391 [00:45<00:00,  8.56it/s, loss=2.13]\n"
          ]
        },
        {
          "name": "stdout",
          "output_type": "stream",
          "text": [
            "Epoch 1: test_loss=1.8121, test_acc=33.13%\n"
          ]
        },
        {
          "name": "stderr",
          "output_type": "stream",
          "text": [
            "Epoch 2/80: 100%|██████████| 391/391 [00:45<00:00,  8.66it/s, loss=1.92]\n"
          ]
        },
        {
          "name": "stdout",
          "output_type": "stream",
          "text": [
            "Epoch 2: test_loss=1.6541, test_acc=38.42%\n"
          ]
        },
        {
          "name": "stderr",
          "output_type": "stream",
          "text": [
            "Epoch 3/80: 100%|██████████| 391/391 [00:44<00:00,  8.71it/s, loss=1.79]\n"
          ]
        },
        {
          "name": "stdout",
          "output_type": "stream",
          "text": [
            "Epoch 3: test_loss=1.5460, test_acc=43.47%\n"
          ]
        },
        {
          "name": "stderr",
          "output_type": "stream",
          "text": [
            "Epoch 4/80: 100%|██████████| 391/391 [00:44<00:00,  8.79it/s, loss=1.69]\n"
          ]
        },
        {
          "name": "stdout",
          "output_type": "stream",
          "text": [
            "Epoch 4: test_loss=1.3759, test_acc=49.75%\n"
          ]
        },
        {
          "name": "stderr",
          "output_type": "stream",
          "text": [
            "Epoch 5/80: 100%|██████████| 391/391 [00:45<00:00,  8.65it/s, loss=1.6]\n"
          ]
        },
        {
          "name": "stdout",
          "output_type": "stream",
          "text": [
            "Epoch 5: test_loss=1.2971, test_acc=53.36%\n"
          ]
        },
        {
          "name": "stderr",
          "output_type": "stream",
          "text": [
            "Epoch 6/80: 100%|██████████| 391/391 [00:45<00:00,  8.62it/s, loss=1.53]\n"
          ]
        },
        {
          "name": "stdout",
          "output_type": "stream",
          "text": [
            "Epoch 6: test_loss=1.2585, test_acc=54.08%\n"
          ]
        },
        {
          "name": "stderr",
          "output_type": "stream",
          "text": [
            "Epoch 7/80: 100%|██████████| 391/391 [00:44<00:00,  8.75it/s, loss=1.48]\n"
          ]
        },
        {
          "name": "stdout",
          "output_type": "stream",
          "text": [
            "Epoch 7: test_loss=1.2493, test_acc=54.38%\n"
          ]
        },
        {
          "name": "stderr",
          "output_type": "stream",
          "text": [
            "Epoch 8/80: 100%|██████████| 391/391 [00:44<00:00,  8.81it/s, loss=1.43]\n"
          ]
        },
        {
          "name": "stdout",
          "output_type": "stream",
          "text": [
            "Epoch 8: test_loss=1.2102, test_acc=56.22%\n"
          ]
        },
        {
          "name": "stderr",
          "output_type": "stream",
          "text": [
            "Epoch 9/80: 100%|██████████| 391/391 [00:44<00:00,  8.86it/s, loss=1.4]\n"
          ]
        },
        {
          "name": "stdout",
          "output_type": "stream",
          "text": [
            "Epoch 9: test_loss=1.1597, test_acc=58.29%\n"
          ]
        },
        {
          "name": "stderr",
          "output_type": "stream",
          "text": [
            "Epoch 10/80: 100%|██████████| 391/391 [00:44<00:00,  8.83it/s, loss=1.37]\n"
          ]
        },
        {
          "name": "stdout",
          "output_type": "stream",
          "text": [
            "Epoch 10: test_loss=1.0778, test_acc=61.47%\n"
          ]
        },
        {
          "name": "stderr",
          "output_type": "stream",
          "text": [
            "Epoch 11/80: 100%|██████████| 391/391 [00:45<00:00,  8.66it/s, loss=1.34]\n"
          ]
        },
        {
          "name": "stdout",
          "output_type": "stream",
          "text": [
            "Epoch 11: test_loss=1.0738, test_acc=61.16%\n"
          ]
        },
        {
          "name": "stderr",
          "output_type": "stream",
          "text": [
            "Epoch 12/80: 100%|██████████| 391/391 [00:45<00:00,  8.56it/s, loss=1.31]\n"
          ]
        },
        {
          "name": "stdout",
          "output_type": "stream",
          "text": [
            "Epoch 12: test_loss=1.0423, test_acc=62.40%\n"
          ]
        },
        {
          "name": "stderr",
          "output_type": "stream",
          "text": [
            "Epoch 13/80: 100%|██████████| 391/391 [00:46<00:00,  8.50it/s, loss=1.28]\n"
          ]
        },
        {
          "name": "stdout",
          "output_type": "stream",
          "text": [
            "Epoch 13: test_loss=1.0160, test_acc=63.35%\n"
          ]
        },
        {
          "name": "stderr",
          "output_type": "stream",
          "text": [
            "Epoch 14/80: 100%|██████████| 391/391 [00:45<00:00,  8.68it/s, loss=1.25]\n"
          ]
        },
        {
          "name": "stdout",
          "output_type": "stream",
          "text": [
            "Epoch 14: test_loss=0.9756, test_acc=64.97%\n"
          ]
        },
        {
          "name": "stderr",
          "output_type": "stream",
          "text": [
            "Epoch 15/80: 100%|██████████| 391/391 [00:45<00:00,  8.51it/s, loss=1.23]\n"
          ]
        },
        {
          "name": "stdout",
          "output_type": "stream",
          "text": [
            "Epoch 15: test_loss=1.0117, test_acc=64.03%\n"
          ]
        },
        {
          "name": "stderr",
          "output_type": "stream",
          "text": [
            "Epoch 16/80: 100%|██████████| 391/391 [00:45<00:00,  8.55it/s, loss=1.2]\n"
          ]
        },
        {
          "name": "stdout",
          "output_type": "stream",
          "text": [
            "Epoch 16: test_loss=0.9689, test_acc=65.48%\n"
          ]
        },
        {
          "name": "stderr",
          "output_type": "stream",
          "text": [
            "Epoch 17/80: 100%|██████████| 391/391 [00:45<00:00,  8.54it/s, loss=1.18]\n"
          ]
        },
        {
          "name": "stdout",
          "output_type": "stream",
          "text": [
            "Epoch 17: test_loss=0.9063, test_acc=67.57%\n"
          ]
        },
        {
          "name": "stderr",
          "output_type": "stream",
          "text": [
            "Epoch 18/80: 100%|██████████| 391/391 [00:45<00:00,  8.54it/s, loss=1.15]\n"
          ]
        },
        {
          "name": "stdout",
          "output_type": "stream",
          "text": [
            "Epoch 18: test_loss=0.8851, test_acc=68.73%\n"
          ]
        },
        {
          "name": "stderr",
          "output_type": "stream",
          "text": [
            "Epoch 19/80: 100%|██████████| 391/391 [00:45<00:00,  8.63it/s, loss=1.14]\n"
          ]
        },
        {
          "name": "stdout",
          "output_type": "stream",
          "text": [
            "Epoch 19: test_loss=0.8511, test_acc=69.54%\n"
          ]
        },
        {
          "name": "stderr",
          "output_type": "stream",
          "text": [
            "Epoch 20/80: 100%|██████████| 391/391 [00:44<00:00,  8.82it/s, loss=1.11]\n"
          ]
        },
        {
          "name": "stdout",
          "output_type": "stream",
          "text": [
            "Epoch 20: test_loss=0.8293, test_acc=70.63%\n"
          ]
        },
        {
          "name": "stderr",
          "output_type": "stream",
          "text": [
            "Epoch 21/80: 100%|██████████| 391/391 [00:44<00:00,  8.83it/s, loss=1.09]\n"
          ]
        },
        {
          "name": "stdout",
          "output_type": "stream",
          "text": [
            "Epoch 21: test_loss=0.8379, test_acc=69.81%\n"
          ]
        },
        {
          "name": "stderr",
          "output_type": "stream",
          "text": [
            "Epoch 22/80: 100%|██████████| 391/391 [00:44<00:00,  8.76it/s, loss=1.07]\n"
          ]
        },
        {
          "name": "stdout",
          "output_type": "stream",
          "text": [
            "Epoch 22: test_loss=0.7964, test_acc=71.36%\n"
          ]
        },
        {
          "name": "stderr",
          "output_type": "stream",
          "text": [
            "Epoch 23/80: 100%|██████████| 391/391 [00:44<00:00,  8.72it/s, loss=1.05]\n"
          ]
        },
        {
          "name": "stdout",
          "output_type": "stream",
          "text": [
            "Epoch 23: test_loss=0.8404, test_acc=70.45%\n"
          ]
        },
        {
          "name": "stderr",
          "output_type": "stream",
          "text": [
            "Epoch 24/80: 100%|██████████| 391/391 [00:45<00:00,  8.64it/s, loss=1.03]\n"
          ]
        },
        {
          "name": "stdout",
          "output_type": "stream",
          "text": [
            "Epoch 24: test_loss=0.7834, test_acc=72.35%\n"
          ]
        },
        {
          "name": "stderr",
          "output_type": "stream",
          "text": [
            "Epoch 25/80: 100%|██████████| 391/391 [00:45<00:00,  8.62it/s, loss=1.01]\n"
          ]
        },
        {
          "name": "stdout",
          "output_type": "stream",
          "text": [
            "Epoch 25: test_loss=0.7348, test_acc=73.87%\n"
          ]
        },
        {
          "name": "stderr",
          "output_type": "stream",
          "text": [
            "Epoch 26/80: 100%|██████████| 391/391 [00:45<00:00,  8.66it/s, loss=0.993]\n"
          ]
        },
        {
          "name": "stdout",
          "output_type": "stream",
          "text": [
            "Epoch 26: test_loss=0.7307, test_acc=74.30%\n"
          ]
        },
        {
          "name": "stderr",
          "output_type": "stream",
          "text": [
            "Epoch 27/80: 100%|██████████| 391/391 [00:45<00:00,  8.67it/s, loss=0.971]\n"
          ]
        },
        {
          "name": "stdout",
          "output_type": "stream",
          "text": [
            "Epoch 27: test_loss=0.7225, test_acc=74.21%\n"
          ]
        },
        {
          "name": "stderr",
          "output_type": "stream",
          "text": [
            "Epoch 28/80: 100%|██████████| 391/391 [00:45<00:00,  8.65it/s, loss=0.956]\n"
          ]
        },
        {
          "name": "stdout",
          "output_type": "stream",
          "text": [
            "Epoch 28: test_loss=0.7175, test_acc=74.59%\n"
          ]
        },
        {
          "name": "stderr",
          "output_type": "stream",
          "text": [
            "Epoch 29/80: 100%|██████████| 391/391 [00:44<00:00,  8.70it/s, loss=0.944]\n"
          ]
        },
        {
          "name": "stdout",
          "output_type": "stream",
          "text": [
            "Epoch 29: test_loss=0.7020, test_acc=75.22%\n"
          ]
        },
        {
          "name": "stderr",
          "output_type": "stream",
          "text": [
            "Epoch 30/80: 100%|██████████| 391/391 [00:45<00:00,  8.62it/s, loss=0.923]\n"
          ]
        },
        {
          "name": "stdout",
          "output_type": "stream",
          "text": [
            "Epoch 30: test_loss=0.6585, test_acc=76.89%\n"
          ]
        },
        {
          "name": "stderr",
          "output_type": "stream",
          "text": [
            "Epoch 31/80: 100%|██████████| 391/391 [00:44<00:00,  8.70it/s, loss=0.907]\n"
          ]
        },
        {
          "name": "stdout",
          "output_type": "stream",
          "text": [
            "Epoch 31: test_loss=0.6860, test_acc=75.54%\n"
          ]
        },
        {
          "name": "stderr",
          "output_type": "stream",
          "text": [
            "Epoch 32/80: 100%|██████████| 391/391 [00:44<00:00,  8.78it/s, loss=0.889]\n"
          ]
        },
        {
          "name": "stdout",
          "output_type": "stream",
          "text": [
            "Epoch 32: test_loss=0.6638, test_acc=76.48%\n"
          ]
        },
        {
          "name": "stderr",
          "output_type": "stream",
          "text": [
            "Epoch 33/80: 100%|██████████| 391/391 [00:44<00:00,  8.69it/s, loss=0.872]\n"
          ]
        },
        {
          "name": "stdout",
          "output_type": "stream",
          "text": [
            "Epoch 33: test_loss=0.6629, test_acc=76.82%\n"
          ]
        },
        {
          "name": "stderr",
          "output_type": "stream",
          "text": [
            "Epoch 34/80: 100%|██████████| 391/391 [00:45<00:00,  8.69it/s, loss=0.858]\n"
          ]
        },
        {
          "name": "stdout",
          "output_type": "stream",
          "text": [
            "Epoch 34: test_loss=0.6330, test_acc=77.90%\n"
          ]
        },
        {
          "name": "stderr",
          "output_type": "stream",
          "text": [
            "Epoch 35/80: 100%|██████████| 391/391 [00:45<00:00,  8.68it/s, loss=0.847]\n"
          ]
        },
        {
          "name": "stdout",
          "output_type": "stream",
          "text": [
            "Epoch 35: test_loss=0.6453, test_acc=77.78%\n"
          ]
        },
        {
          "name": "stderr",
          "output_type": "stream",
          "text": [
            "Epoch 36/80: 100%|██████████| 391/391 [00:45<00:00,  8.54it/s, loss=0.836]\n"
          ]
        },
        {
          "name": "stdout",
          "output_type": "stream",
          "text": [
            "Epoch 36: test_loss=0.6348, test_acc=77.83%\n"
          ]
        },
        {
          "name": "stderr",
          "output_type": "stream",
          "text": [
            "Epoch 37/80: 100%|██████████| 391/391 [00:45<00:00,  8.66it/s, loss=0.815]\n"
          ]
        },
        {
          "name": "stdout",
          "output_type": "stream",
          "text": [
            "Epoch 37: test_loss=0.6120, test_acc=78.58%\n"
          ]
        },
        {
          "name": "stderr",
          "output_type": "stream",
          "text": [
            "Epoch 38/80: 100%|██████████| 391/391 [00:44<00:00,  8.76it/s, loss=0.811]\n"
          ]
        },
        {
          "name": "stdout",
          "output_type": "stream",
          "text": [
            "Epoch 38: test_loss=0.5821, test_acc=80.11%\n"
          ]
        },
        {
          "name": "stderr",
          "output_type": "stream",
          "text": [
            "Epoch 39/80: 100%|██████████| 391/391 [00:45<00:00,  8.66it/s, loss=0.787]\n"
          ]
        },
        {
          "name": "stdout",
          "output_type": "stream",
          "text": [
            "Epoch 39: test_loss=0.6007, test_acc=79.06%\n"
          ]
        },
        {
          "name": "stderr",
          "output_type": "stream",
          "text": [
            "Epoch 40/80: 100%|██████████| 391/391 [00:45<00:00,  8.63it/s, loss=0.772]\n"
          ]
        },
        {
          "name": "stdout",
          "output_type": "stream",
          "text": [
            "Epoch 40: test_loss=0.5728, test_acc=79.60%\n"
          ]
        },
        {
          "name": "stderr",
          "output_type": "stream",
          "text": [
            "Epoch 41/80: 100%|██████████| 391/391 [00:44<00:00,  8.72it/s, loss=0.763]\n"
          ]
        },
        {
          "name": "stdout",
          "output_type": "stream",
          "text": [
            "Epoch 41: test_loss=0.5622, test_acc=80.33%\n"
          ]
        },
        {
          "name": "stderr",
          "output_type": "stream",
          "text": [
            "Epoch 42/80: 100%|██████████| 391/391 [00:43<00:00,  8.93it/s, loss=0.749]\n"
          ]
        },
        {
          "name": "stdout",
          "output_type": "stream",
          "text": [
            "Epoch 42: test_loss=0.5438, test_acc=81.28%\n"
          ]
        },
        {
          "name": "stderr",
          "output_type": "stream",
          "text": [
            "Epoch 43/80: 100%|██████████| 391/391 [00:44<00:00,  8.77it/s, loss=0.734]\n"
          ]
        },
        {
          "name": "stdout",
          "output_type": "stream",
          "text": [
            "Epoch 43: test_loss=0.5425, test_acc=81.45%\n"
          ]
        },
        {
          "name": "stderr",
          "output_type": "stream",
          "text": [
            "Epoch 44/80: 100%|██████████| 391/391 [00:44<00:00,  8.78it/s, loss=0.728]\n"
          ]
        },
        {
          "name": "stdout",
          "output_type": "stream",
          "text": [
            "Epoch 44: test_loss=0.5735, test_acc=80.64%\n"
          ]
        },
        {
          "name": "stderr",
          "output_type": "stream",
          "text": [
            "Epoch 45/80: 100%|██████████| 391/391 [00:45<00:00,  8.68it/s, loss=0.716]\n"
          ]
        },
        {
          "name": "stdout",
          "output_type": "stream",
          "text": [
            "Epoch 45: test_loss=0.5296, test_acc=81.88%\n"
          ]
        },
        {
          "name": "stderr",
          "output_type": "stream",
          "text": [
            "Epoch 46/80: 100%|██████████| 391/391 [00:45<00:00,  8.65it/s, loss=0.699]\n"
          ]
        },
        {
          "name": "stdout",
          "output_type": "stream",
          "text": [
            "Epoch 46: test_loss=0.5377, test_acc=81.54%\n"
          ]
        },
        {
          "name": "stderr",
          "output_type": "stream",
          "text": [
            "Epoch 47/80: 100%|██████████| 391/391 [00:45<00:00,  8.69it/s, loss=0.687]\n"
          ]
        },
        {
          "name": "stdout",
          "output_type": "stream",
          "text": [
            "Epoch 47: test_loss=0.5263, test_acc=82.04%\n"
          ]
        },
        {
          "name": "stderr",
          "output_type": "stream",
          "text": [
            "Epoch 48/80: 100%|██████████| 391/391 [00:45<00:00,  8.64it/s, loss=0.675]\n"
          ]
        },
        {
          "name": "stdout",
          "output_type": "stream",
          "text": [
            "Epoch 48: test_loss=0.5236, test_acc=82.36%\n"
          ]
        },
        {
          "name": "stderr",
          "output_type": "stream",
          "text": [
            "Epoch 49/80: 100%|██████████| 391/391 [00:46<00:00,  8.48it/s, loss=0.66]\n"
          ]
        },
        {
          "name": "stdout",
          "output_type": "stream",
          "text": [
            "Epoch 49: test_loss=0.5493, test_acc=81.28%\n"
          ]
        },
        {
          "name": "stderr",
          "output_type": "stream",
          "text": [
            "Epoch 50/80: 100%|██████████| 391/391 [00:45<00:00,  8.58it/s, loss=0.658]\n"
          ]
        },
        {
          "name": "stdout",
          "output_type": "stream",
          "text": [
            "Epoch 50: test_loss=0.5151, test_acc=82.42%\n"
          ]
        },
        {
          "name": "stderr",
          "output_type": "stream",
          "text": [
            "Epoch 51/80: 100%|██████████| 391/391 [00:44<00:00,  8.75it/s, loss=0.647]\n"
          ]
        },
        {
          "name": "stdout",
          "output_type": "stream",
          "text": [
            "Epoch 51: test_loss=0.5071, test_acc=82.99%\n"
          ]
        },
        {
          "name": "stderr",
          "output_type": "stream",
          "text": [
            "Epoch 52/80: 100%|██████████| 391/391 [00:44<00:00,  8.77it/s, loss=0.638]\n"
          ]
        },
        {
          "name": "stdout",
          "output_type": "stream",
          "text": [
            "Epoch 52: test_loss=0.4970, test_acc=83.11%\n"
          ]
        },
        {
          "name": "stderr",
          "output_type": "stream",
          "text": [
            "Epoch 53/80: 100%|██████████| 391/391 [00:43<00:00,  8.90it/s, loss=0.626]\n"
          ]
        },
        {
          "name": "stdout",
          "output_type": "stream",
          "text": [
            "Epoch 53: test_loss=0.5156, test_acc=82.78%\n"
          ]
        },
        {
          "name": "stderr",
          "output_type": "stream",
          "text": [
            "Epoch 54/80: 100%|██████████| 391/391 [00:44<00:00,  8.73it/s, loss=0.619]\n"
          ]
        },
        {
          "name": "stdout",
          "output_type": "stream",
          "text": [
            "Epoch 54: test_loss=0.4907, test_acc=83.37%\n"
          ]
        },
        {
          "name": "stderr",
          "output_type": "stream",
          "text": [
            "Epoch 55/80: 100%|██████████| 391/391 [00:44<00:00,  8.70it/s, loss=0.608]\n"
          ]
        },
        {
          "name": "stdout",
          "output_type": "stream",
          "text": [
            "Epoch 55: test_loss=0.4899, test_acc=83.29%\n"
          ]
        },
        {
          "name": "stderr",
          "output_type": "stream",
          "text": [
            "Epoch 56/80: 100%|██████████| 391/391 [00:45<00:00,  8.68it/s, loss=0.595]\n"
          ]
        },
        {
          "name": "stdout",
          "output_type": "stream",
          "text": [
            "Epoch 56: test_loss=0.4843, test_acc=83.87%\n"
          ]
        },
        {
          "name": "stderr",
          "output_type": "stream",
          "text": [
            "Epoch 57/80: 100%|██████████| 391/391 [00:44<00:00,  8.78it/s, loss=0.587]\n"
          ]
        },
        {
          "name": "stdout",
          "output_type": "stream",
          "text": [
            "Epoch 57: test_loss=0.4796, test_acc=83.97%\n"
          ]
        },
        {
          "name": "stderr",
          "output_type": "stream",
          "text": [
            "Epoch 58/80: 100%|██████████| 391/391 [00:43<00:00,  8.98it/s, loss=0.582]\n"
          ]
        },
        {
          "name": "stdout",
          "output_type": "stream",
          "text": [
            "Epoch 58: test_loss=0.4663, test_acc=84.22%\n"
          ]
        },
        {
          "name": "stderr",
          "output_type": "stream",
          "text": [
            "Epoch 59/80: 100%|██████████| 391/391 [00:43<00:00,  8.95it/s, loss=0.571]\n"
          ]
        },
        {
          "name": "stdout",
          "output_type": "stream",
          "text": [
            "Epoch 59: test_loss=0.4792, test_acc=84.17%\n"
          ]
        },
        {
          "name": "stderr",
          "output_type": "stream",
          "text": [
            "Epoch 60/80: 100%|██████████| 391/391 [00:44<00:00,  8.89it/s, loss=0.565]\n"
          ]
        },
        {
          "name": "stdout",
          "output_type": "stream",
          "text": [
            "Epoch 60: test_loss=0.4743, test_acc=84.31%\n"
          ]
        },
        {
          "name": "stderr",
          "output_type": "stream",
          "text": [
            "Epoch 61/80: 100%|██████████| 391/391 [00:44<00:00,  8.76it/s, loss=0.558]\n"
          ]
        },
        {
          "name": "stdout",
          "output_type": "stream",
          "text": [
            "Epoch 61: test_loss=0.4822, test_acc=84.22%\n"
          ]
        },
        {
          "name": "stderr",
          "output_type": "stream",
          "text": [
            "Epoch 62/80: 100%|██████████| 391/391 [00:45<00:00,  8.65it/s, loss=0.551]\n"
          ]
        },
        {
          "name": "stdout",
          "output_type": "stream",
          "text": [
            "Epoch 62: test_loss=0.4685, test_acc=84.61%\n"
          ]
        },
        {
          "name": "stderr",
          "output_type": "stream",
          "text": [
            "Epoch 63/80: 100%|██████████| 391/391 [00:45<00:00,  8.68it/s, loss=0.549]\n"
          ]
        },
        {
          "name": "stdout",
          "output_type": "stream",
          "text": [
            "Epoch 63: test_loss=0.4676, test_acc=84.57%\n"
          ]
        },
        {
          "name": "stderr",
          "output_type": "stream",
          "text": [
            "Epoch 64/80: 100%|██████████| 391/391 [00:43<00:00,  8.89it/s, loss=0.541]\n"
          ]
        },
        {
          "name": "stdout",
          "output_type": "stream",
          "text": [
            "Epoch 64: test_loss=0.4469, test_acc=85.56%\n"
          ]
        },
        {
          "name": "stderr",
          "output_type": "stream",
          "text": [
            "Epoch 65/80: 100%|██████████| 391/391 [00:44<00:00,  8.83it/s, loss=0.529]\n"
          ]
        },
        {
          "name": "stdout",
          "output_type": "stream",
          "text": [
            "Epoch 65: test_loss=0.4535, test_acc=85.11%\n"
          ]
        },
        {
          "name": "stderr",
          "output_type": "stream",
          "text": [
            "Epoch 66/80: 100%|██████████| 391/391 [00:43<00:00,  8.96it/s, loss=0.524]\n"
          ]
        },
        {
          "name": "stdout",
          "output_type": "stream",
          "text": [
            "Epoch 66: test_loss=0.4604, test_acc=85.18%\n"
          ]
        },
        {
          "name": "stderr",
          "output_type": "stream",
          "text": [
            "Epoch 67/80: 100%|██████████| 391/391 [00:44<00:00,  8.88it/s, loss=0.517]\n"
          ]
        },
        {
          "name": "stdout",
          "output_type": "stream",
          "text": [
            "Epoch 67: test_loss=0.4570, test_acc=85.11%\n"
          ]
        },
        {
          "name": "stderr",
          "output_type": "stream",
          "text": [
            "Epoch 68/80: 100%|██████████| 391/391 [00:44<00:00,  8.80it/s, loss=0.514]\n"
          ]
        },
        {
          "name": "stdout",
          "output_type": "stream",
          "text": [
            "Epoch 68: test_loss=0.4578, test_acc=85.12%\n"
          ]
        },
        {
          "name": "stderr",
          "output_type": "stream",
          "text": [
            "Epoch 69/80: 100%|██████████| 391/391 [00:44<00:00,  8.75it/s, loss=0.509]\n"
          ]
        },
        {
          "name": "stdout",
          "output_type": "stream",
          "text": [
            "Epoch 69: test_loss=0.4509, test_acc=85.29%\n"
          ]
        },
        {
          "name": "stderr",
          "output_type": "stream",
          "text": [
            "Epoch 70/80: 100%|██████████| 391/391 [00:43<00:00,  8.97it/s, loss=0.506]\n"
          ]
        },
        {
          "name": "stdout",
          "output_type": "stream",
          "text": [
            "Epoch 70: test_loss=0.4568, test_acc=85.17%\n"
          ]
        },
        {
          "name": "stderr",
          "output_type": "stream",
          "text": [
            "Epoch 71/80: 100%|██████████| 391/391 [00:43<00:00,  8.92it/s, loss=0.5]\n"
          ]
        },
        {
          "name": "stdout",
          "output_type": "stream",
          "text": [
            "Epoch 71: test_loss=0.4558, test_acc=85.49%\n"
          ]
        },
        {
          "name": "stderr",
          "output_type": "stream",
          "text": [
            "Epoch 72/80: 100%|██████████| 391/391 [00:44<00:00,  8.81it/s, loss=0.494]\n"
          ]
        },
        {
          "name": "stdout",
          "output_type": "stream",
          "text": [
            "Epoch 72: test_loss=0.4481, test_acc=85.40%\n"
          ]
        },
        {
          "name": "stderr",
          "output_type": "stream",
          "text": [
            "Epoch 73/80: 100%|██████████| 391/391 [00:43<00:00,  8.97it/s, loss=0.494]\n"
          ]
        },
        {
          "name": "stdout",
          "output_type": "stream",
          "text": [
            "Epoch 73: test_loss=0.4592, test_acc=85.14%\n"
          ]
        },
        {
          "name": "stderr",
          "output_type": "stream",
          "text": [
            "Epoch 74/80: 100%|██████████| 391/391 [00:44<00:00,  8.77it/s, loss=0.488]\n"
          ]
        },
        {
          "name": "stdout",
          "output_type": "stream",
          "text": [
            "Epoch 74: test_loss=0.4580, test_acc=85.30%\n"
          ]
        },
        {
          "name": "stderr",
          "output_type": "stream",
          "text": [
            "Epoch 75/80: 100%|██████████| 391/391 [00:44<00:00,  8.78it/s, loss=0.486]\n"
          ]
        },
        {
          "name": "stdout",
          "output_type": "stream",
          "text": [
            "Epoch 75: test_loss=0.4549, test_acc=85.52%\n"
          ]
        },
        {
          "name": "stderr",
          "output_type": "stream",
          "text": [
            "Epoch 76/80: 100%|██████████| 391/391 [00:44<00:00,  8.73it/s, loss=0.486]\n"
          ]
        },
        {
          "name": "stdout",
          "output_type": "stream",
          "text": [
            "Epoch 76: test_loss=0.4536, test_acc=85.41%\n"
          ]
        },
        {
          "name": "stderr",
          "output_type": "stream",
          "text": [
            "Epoch 77/80: 100%|██████████| 391/391 [00:44<00:00,  8.87it/s, loss=0.487]\n"
          ]
        },
        {
          "name": "stdout",
          "output_type": "stream",
          "text": [
            "Epoch 77: test_loss=0.4620, test_acc=85.31%\n"
          ]
        },
        {
          "name": "stderr",
          "output_type": "stream",
          "text": [
            "Epoch 78/80: 100%|██████████| 391/391 [00:44<00:00,  8.85it/s, loss=0.485]\n"
          ]
        },
        {
          "name": "stdout",
          "output_type": "stream",
          "text": [
            "Epoch 78: test_loss=0.4551, test_acc=85.51%\n"
          ]
        },
        {
          "name": "stderr",
          "output_type": "stream",
          "text": [
            "Epoch 79/80: 100%|██████████| 391/391 [00:43<00:00,  8.97it/s, loss=0.479]\n"
          ]
        },
        {
          "name": "stdout",
          "output_type": "stream",
          "text": [
            "Epoch 79: test_loss=0.4558, test_acc=85.64%\n"
          ]
        },
        {
          "name": "stderr",
          "output_type": "stream",
          "text": [
            "Epoch 80/80: 100%|██████████| 391/391 [00:45<00:00,  8.69it/s, loss=0.479]\n"
          ]
        },
        {
          "name": "stdout",
          "output_type": "stream",
          "text": [
            "Epoch 80: test_loss=0.4598, test_acc=85.39%\n",
            "Best test acc: 85.64\n"
          ]
        }
      ],
      "source": [
        "#  cell 7 — training loop (with optional mixed precision)\n",
        "scaler = torch.cuda.amp.GradScaler(enabled=torch.cuda.is_available())\n",
        "best_acc = 0.0\n",
        "for epoch in range(epochs):\n",
        "    model.train()\n",
        "    # set lr\n",
        "    for param_group in optimizer.param_groups:\n",
        "        param_group['lr'] = lrs[epoch]\n",
        "    loop = tqdm(train_loader, desc=f\"Epoch {epoch+1}/{epochs}\")\n",
        "    running_loss = 0.0\n",
        "    for imgs, labels in loop:\n",
        "        imgs = imgs.to(device); labels = labels.to(device)\n",
        "        optimizer.zero_grad()\n",
        "        with torch.cuda.amp.autocast(enabled=torch.cuda.is_available()):\n",
        "            outputs = model(imgs)\n",
        "            loss = criterion(outputs, labels)\n",
        "        scaler.scale(loss).backward()\n",
        "        scaler.step(optimizer)\n",
        "        scaler.update()\n",
        "        running_loss += loss.item() * imgs.size(0)\n",
        "        loop.set_postfix(loss=running_loss/((loop.n+1)*train_loader.batch_size))\n",
        "    # evaluating\n",
        "    val_loss, val_acc = evaluate(model, test_loader)\n",
        "    print(f\"Epoch {epoch+1}: test_loss={val_loss:.4f}, test_acc={val_acc:.2f}%\")\n",
        "    if val_acc > best_acc:\n",
        "        best_acc = val_acc\n",
        "        torch.save(model.state_dict(), \"best_vit_cifar10.pth\")\n",
        "print(\"Best test acc:\", best_acc)\n"
      ]
    }
  ],
  "metadata": {
    "accelerator": "GPU",
    "colab": {
      "gpuType": "T4",
      "provenance": []
    },
    "kernelspec": {
      "display_name": "Python 3",
      "name": "python3"
    },
    "language_info": {
      "name": "python"
    }
  },
  "nbformat": 4,
  "nbformat_minor": 0
}